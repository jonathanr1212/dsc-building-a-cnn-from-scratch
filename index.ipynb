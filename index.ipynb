{
 "cells": [
  {
   "cell_type": "markdown",
   "metadata": {},
   "source": [
    "# Building a CNN from Scratch - Lab\n",
    "\n",
    "## Introduction\n",
    "\n",
    "Now that you have background knowledge regarding how CNNs work and how to build them using Keras, its time to practice those skills a little more independently in order to build a CNN on your own to solve a image recognition problem. In this lab, you'll practice building an image classifier from start to finish using a CNN.  \n",
    "\n",
    "## Objectives\n",
    "\n",
    "In this lab you will: \n",
    "\n",
    "- Load images from a hierarchical file structure using an image datagenerator \n",
    "- Apply data augmentation to image files before training a neural network \n",
    "- Build a CNN using Keras \n",
    "- Visualize and evaluate the performance of CNN models \n",
    "\n",
    "## Loading the Images\n",
    "\n",
    "The data for this lab are a bunch of pictures of cats and dogs, and our task is to correctly classify a picture as one or the other. The [original dataset](https://www.kaggle.com/c/dogs-vs-cats) is from Kaggle. We have downsampled this dataset in order to reduce training time for you when you design and fit your model to the data. ⏰ It is anticipated that this process will take approximately one hour to run on a standard machine, although times will vary depending on your particular computer and set up. At the end of this lab, you are welcome to try training on the complete dataset and observe the impact on the model's overall accuracy. \n",
    "\n",
    "You can find the initial downsampled dataset in a subdirectory, **cats_dogs_downsampled**, of this repository. "
   ]
  },
  {
   "cell_type": "code",
   "execution_count": 1,
   "metadata": {},
   "outputs": [],
   "source": [
    "# Load the images; be sure to also preprocess these into tensors \n",
    "\n",
    "train_dir = 'cats_dogs_downsampled/train'\n",
    "validation_dir = 'cats_dogs_downsampled/val/'\n",
    "test_dir = 'cats_dogs_downsampled/test/' "
   ]
  },
  {
   "cell_type": "code",
   "execution_count": 2,
   "metadata": {},
   "outputs": [],
   "source": [
    "from keras.preprocessing.image import ImageDataGenerator\n",
    "import datetime\n",
    "\n",
    "original_start = datetime.datetime.now()\n",
    "start = datetime.datetime.now()"
   ]
  },
  {
   "cell_type": "code",
   "execution_count": 3,
   "metadata": {},
   "outputs": [
    {
     "name": "stdout",
     "output_type": "stream",
     "text": [
      "Found 2140 images belonging to 2 classes.\n",
      "Found 420 images belonging to 2 classes.\n"
     ]
    }
   ],
   "source": [
    "# All images will be rescaled by 1./255\n",
    "train_datagen = ImageDataGenerator(rescale=1./255)\n",
    "val_datagen = ImageDataGenerator(rescale=1./255)\n",
    "\n",
    "train_generator = train_datagen.flow_from_directory(\n",
    "        # This is the target directory\n",
    "        train_dir,\n",
    "        # All images will be resized to 150x150\n",
    "        target_size=(150, 150),\n",
    "        batch_size=20,\n",
    "        # Since we use binary_crossentropy loss, we need binary labels\n",
    "        class_mode='binary')\n",
    "\n",
    "validation_generator = val_datagen.flow_from_directory(validation_dir,\n",
    "                                                        target_size=(150, 150),\n",
    "                                                        batch_size=20,\n",
    "                                                        class_mode='binary')"
   ]
  },
  {
   "cell_type": "markdown",
   "metadata": {},
   "source": [
    "## Designing the Model\n",
    "\n",
    "Now it's time to design your CNN using Keras! Remember a few things when doing this: \n",
    "\n",
    "- You should alternate convolutional and pooling layers\n",
    "- You should have later layers have a larger number of parameters in order to detect more abstract patterns\n",
    "- Add some final dense layers to add a classifier to the convolutional base \n",
    "- Compile this model "
   ]
  },
  {
   "cell_type": "code",
   "execution_count": 4,
   "metadata": {},
   "outputs": [],
   "source": [
    "# Your code here; design and compile the model\n",
    "from tensorflow.keras import layers\n",
    "from tensorflow.keras import models \n",
    "\n",
    "model = models.Sequential()\n",
    "model.add(layers.Conv2D(32,(3,3), activation = 'relu', input_shape = (150, 150, 3)))\n",
    "model.add(layers.MaxPooling2D((2,2)))\n",
    "model.add(layers.Conv2D(64, (3, 3), activation = 'relu'))\n",
    "model.add(layers.MaxPooling2D((2,2)))\n",
    "model.add(layers.Conv2D(128, (3, 3), activation = 'relu'))\n",
    "model.add(layers.MaxPooling2D((2,2)))\n",
    "model.add(layers.Conv2D(128, (3, 3), activation = 'relu'))\n",
    "model.add(layers.MaxPooling2D((2,2)))\n",
    "model.add(layers.Flatten())\n",
    "model.add(layers.Dense(512, activation = 'relu'))\n",
    "model.add(layers.Dense(1, activation = 'sigmoid'))\n",
    "          "
   ]
  },
  {
   "cell_type": "code",
   "execution_count": 5,
   "metadata": {},
   "outputs": [],
   "source": [
    "from tensorflow.keras import optimizers\n",
    "\n",
    "model.compile(optimizer = optimizers.RMSprop(lr= 1e-4),\n",
    "             loss = 'binary_crossentropy',\n",
    "             metrics = ['acc'])"
   ]
  },
  {
   "cell_type": "markdown",
   "metadata": {},
   "source": [
    "## Training and Evaluating the Model\n",
    "\n",
    "Remember that training deep networks is resource intensive: depending on the size of the data, even a CNN with 3-4 successive convolutional and pooling layers is apt to take a hours to train on a high end laptop. Using 30 epochs and 8 layers (alternating between convolutional and pooling), our model took about 40 minutes to run on a year old macbook pro.\n",
    "\n",
    "\n",
    "If you are concerned with runtime, you may want to set your model to run the training epochs overnight.  \n",
    "\n",
    "**If you are going to run this process overnight, be sure to also script code for the following questions concerning data augmentation. Check your code twice (or more) and then set the notebook to run all, or something equivalent to have them train overnight.** "
   ]
  },
  {
   "cell_type": "code",
   "execution_count": 6,
   "metadata": {},
   "outputs": [
    {
     "name": "stdout",
     "output_type": "stream",
     "text": [
      "Epoch 1/30\n",
      "100/100 [==============================] - 19s 192ms/step - loss: 0.6899 - acc: 0.5400 - val_loss: 0.6746 - val_acc: 0.5800\n",
      "Epoch 2/30\n",
      "100/100 [==============================] - 18s 183ms/step - loss: 0.6595 - acc: 0.6135 - val_loss: 0.6598 - val_acc: 0.6050\n",
      "Epoch 3/30\n",
      "100/100 [==============================] - 19s 187ms/step - loss: 0.6269 - acc: 0.6585 - val_loss: 0.6245 - val_acc: 0.6375\n",
      "Epoch 4/30\n",
      "100/100 [==============================] - 19s 188ms/step - loss: 0.5879 - acc: 0.6880 - val_loss: 0.5747 - val_acc: 0.7100\n",
      "Epoch 5/30\n",
      "100/100 [==============================] - 20s 196ms/step - loss: 0.5359 - acc: 0.7250 - val_loss: 0.5454 - val_acc: 0.7125\n",
      "Epoch 6/30\n",
      "100/100 [==============================] - 20s 197ms/step - loss: 0.5023 - acc: 0.7450 - val_loss: 0.5188 - val_acc: 0.7450\n",
      "Epoch 7/30\n",
      "100/100 [==============================] - 20s 198ms/step - loss: 0.4749 - acc: 0.7695 - val_loss: 0.5084 - val_acc: 0.7300\n",
      "Epoch 8/30\n",
      "100/100 [==============================] - 20s 200ms/step - loss: 0.4448 - acc: 0.7940 - val_loss: 0.5584 - val_acc: 0.6875\n",
      "Epoch 9/30\n",
      "100/100 [==============================] - 20s 199ms/step - loss: 0.4141 - acc: 0.8110 - val_loss: 0.5459 - val_acc: 0.7225\n",
      "Epoch 10/30\n",
      "100/100 [==============================] - 20s 198ms/step - loss: 0.3951 - acc: 0.8160 - val_loss: 0.5000 - val_acc: 0.7500\n",
      "Epoch 11/30\n",
      "100/100 [==============================] - 20s 199ms/step - loss: 0.3753 - acc: 0.8240 - val_loss: 0.5518 - val_acc: 0.7325\n",
      "Epoch 12/30\n",
      "100/100 [==============================] - 20s 200ms/step - loss: 0.3428 - acc: 0.8605 - val_loss: 0.5080 - val_acc: 0.7500\n",
      "Epoch 13/30\n",
      "100/100 [==============================] - 20s 199ms/step - loss: 0.3264 - acc: 0.8545 - val_loss: 0.5163 - val_acc: 0.7475\n",
      "Epoch 14/30\n",
      "100/100 [==============================] - 20s 199ms/step - loss: 0.2984 - acc: 0.8745 - val_loss: 0.5250 - val_acc: 0.7500\n",
      "Epoch 15/30\n",
      "100/100 [==============================] - 20s 200ms/step - loss: 0.2842 - acc: 0.8720 - val_loss: 0.5028 - val_acc: 0.7750\n",
      "Epoch 16/30\n",
      "100/100 [==============================] - 20s 200ms/step - loss: 0.2602 - acc: 0.8950 - val_loss: 0.5442 - val_acc: 0.7475\n",
      "Epoch 17/30\n",
      "100/100 [==============================] - 20s 201ms/step - loss: 0.2361 - acc: 0.9090 - val_loss: 0.5519 - val_acc: 0.7700\n",
      "Epoch 18/30\n",
      "100/100 [==============================] - 20s 200ms/step - loss: 0.2177 - acc: 0.9175 - val_loss: 0.5201 - val_acc: 0.7450\n",
      "Epoch 19/30\n",
      "100/100 [==============================] - 20s 198ms/step - loss: 0.1958 - acc: 0.9305 - val_loss: 0.6082 - val_acc: 0.7550\n",
      "Epoch 20/30\n",
      "100/100 [==============================] - 20s 198ms/step - loss: 0.1800 - acc: 0.9365 - val_loss: 0.5438 - val_acc: 0.7500\n",
      "Epoch 21/30\n",
      "100/100 [==============================] - 20s 198ms/step - loss: 0.1577 - acc: 0.9395 - val_loss: 0.5712 - val_acc: 0.7675\n",
      "Epoch 22/30\n",
      "100/100 [==============================] - 20s 202ms/step - loss: 0.1463 - acc: 0.9525 - val_loss: 0.6180 - val_acc: 0.7500\n",
      "Epoch 23/30\n",
      "100/100 [==============================] - 20s 199ms/step - loss: 0.1379 - acc: 0.9495 - val_loss: 0.6519 - val_acc: 0.7400\n",
      "Epoch 24/30\n",
      "100/100 [==============================] - 20s 199ms/step - loss: 0.1138 - acc: 0.9640 - val_loss: 0.6994 - val_acc: 0.7250\n",
      "Epoch 25/30\n",
      "100/100 [==============================] - 20s 199ms/step - loss: 0.0981 - acc: 0.9710 - val_loss: 0.8305 - val_acc: 0.7350\n",
      "Epoch 26/30\n",
      "100/100 [==============================] - 20s 199ms/step - loss: 0.0894 - acc: 0.9695 - val_loss: 0.7560 - val_acc: 0.7400\n",
      "Epoch 27/30\n",
      "100/100 [==============================] - 20s 199ms/step - loss: 0.0731 - acc: 0.9815 - val_loss: 0.7392 - val_acc: 0.7500\n",
      "Epoch 28/30\n",
      "100/100 [==============================] - 20s 202ms/step - loss: 0.0670 - acc: 0.9800 - val_loss: 0.7501 - val_acc: 0.7575\n",
      "Epoch 29/30\n",
      "100/100 [==============================] - 20s 198ms/step - loss: 0.0595 - acc: 0.9860 - val_loss: 0.7852 - val_acc: 0.7525\n",
      "Epoch 30/30\n",
      "100/100 [==============================] - 20s 199ms/step - loss: 0.0530 - acc: 0.9860 - val_loss: 0.8204 - val_acc: 0.7575\n"
     ]
    }
   ],
   "source": [
    "# Set the model to train \n",
    "# ⏰ This cell may take several minutes to run \n",
    "history = model.fit(train_generator,\n",
    "                    steps_per_epoch = 100,\n",
    "                    epochs = 30,\n",
    "                    validation_data = validation_generator,\n",
    "                    validation_steps = 20)"
   ]
  },
  {
   "cell_type": "code",
   "execution_count": 7,
   "metadata": {},
   "outputs": [
    {
     "data": {
      "image/png": "[encoded data removed]",
      "text/plain": [
       "<Figure size 432x288 with 1 Axes>"
      ]
     },
     "metadata": {
      "needs_background": "light"
     },
     "output_type": "display_data"
    },
    {
     "data": {
      "image/png": "[encoded data removed]",
      "text/plain": [
       "<Figure size 432x288 with 1 Axes>"
      ]
     },
     "metadata": {
      "needs_background": "light"
     },
     "output_type": "display_data"
    }
   ],
   "source": [
    "# Plot history\n",
    "import matplotlib.pyplot as plt\n",
    "%matplotlib inline\n",
    "\n",
    "acc = history.history['acc']\n",
    "val_acc = history.history['val_acc']\n",
    "loss = history.history['loss']\n",
    "val_loss = history.history['val_loss']\n",
    "epochs = range(len(acc))\n",
    "plt.plot(epochs, acc, 'bo', label = 'Training Accuracy')\n",
    "plt.plot(epochs, val_acc, 'b', label = 'Validation Accuracy')\n",
    "plt.title('Training and Validation Accuracy')\n",
    "plt.legend()\n",
    "plt.figure()\n",
    "plt.plot(epochs, loss, 'bo', label = 'Training Loss')\n",
    "plt.plot(epochs, val_loss, 'b', label= 'Validation Loss')\n",
    "plt.title('Training and Validation Loss')\n",
    "plt.legend()\n",
    "plt.show()"
   ]
  },
  {
   "cell_type": "code",
   "execution_count": 8,
   "metadata": {},
   "outputs": [
    {
     "name": "stdout",
     "output_type": "stream",
     "text": [
      "Training took a total of 0:10:02.113813\n"
     ]
    }
   ],
   "source": [
    "end = datetime.datetime.now()\n",
    "elapsed = end - start\n",
    "print('Training took a total of {}'.format(elapsed))"
   ]
  },
  {
   "cell_type": "markdown",
   "metadata": {},
   "source": [
    "## Save the Model"
   ]
  },
  {
   "cell_type": "code",
   "execution_count": 9,
   "metadata": {},
   "outputs": [],
   "source": [
    "# Your code here; save the model for future reference \n",
    "model.save('cats_dogs_downsampled_data.h5')"
   ]
  },
  {
   "cell_type": "markdown",
   "metadata": {},
   "source": [
    "## Data Augmentation\n",
    "\n",
    "Recall that data augmentation is typically always a necessary step when using a small dataset as this one which you have been provided. As such, if you haven't already, implement a data augmentation setup.\n",
    "\n",
    "**Warning: ⏰ This process took nearly 4 hours to run on a relatively new macbook pro. As such, it is recommended that you simply code the setup and compare to the solution branch, or set the process to run overnight if you do choose to actually run the code.** "
   ]
  },
  {
   "cell_type": "code",
   "execution_count": 10,
   "metadata": {},
   "outputs": [
    {
     "name": "stdout",
     "output_type": "stream",
     "text": [
      "Found 2140 images belonging to 2 classes.\n",
      "Epoch 1/30\n",
      "100/100 [==============================] - 21s 214ms/step - loss: 0.7091 - acc: 0.6555 - val_loss: 0.4982 - val_acc: 0.7900\n",
      "Epoch 2/30\n",
      "100/100 [==============================] - 22s 217ms/step - loss: 0.5806 - acc: 0.6975 - val_loss: 0.5026 - val_acc: 0.7450\n",
      "Epoch 3/30\n",
      "100/100 [==============================] - 22s 221ms/step - loss: 0.5622 - acc: 0.7120 - val_loss: 0.5073 - val_acc: 0.7450\n",
      "Epoch 4/30\n",
      "100/100 [==============================] - 22s 218ms/step - loss: 0.5475 - acc: 0.7160 - val_loss: 0.5271 - val_acc: 0.7200\n",
      "Epoch 5/30\n",
      "100/100 [==============================] - 22s 217ms/step - loss: 0.5403 - acc: 0.7275 - val_loss: 0.4569 - val_acc: 0.7625\n",
      "Epoch 6/30\n",
      "100/100 [==============================] - 22s 217ms/step - loss: 0.5414 - acc: 0.7185 - val_loss: 0.4968 - val_acc: 0.7225\n",
      "Epoch 7/30\n",
      "100/100 [==============================] - 22s 222ms/step - loss: 0.5317 - acc: 0.7395 - val_loss: 0.4401 - val_acc: 0.7800\n",
      "Epoch 8/30\n",
      "100/100 [==============================] - 22s 222ms/step - loss: 0.5220 - acc: 0.7305 - val_loss: 0.4385 - val_acc: 0.8050\n",
      "Epoch 9/30\n",
      "100/100 [==============================] - 22s 219ms/step - loss: 0.4921 - acc: 0.7550 - val_loss: 0.4686 - val_acc: 0.7825\n",
      "Epoch 10/30\n",
      "100/100 [==============================] - 22s 217ms/step - loss: 0.5169 - acc: 0.7495 - val_loss: 0.4852 - val_acc: 0.7425\n",
      "Epoch 11/30\n",
      "100/100 [==============================] - 22s 217ms/step - loss: 0.5084 - acc: 0.7530 - val_loss: 0.4965 - val_acc: 0.7400\n",
      "Epoch 12/30\n",
      "100/100 [==============================] - 22s 216ms/step - loss: 0.5088 - acc: 0.7470 - val_loss: 0.4094 - val_acc: 0.8200\n",
      "Epoch 13/30\n",
      "100/100 [==============================] - 22s 217ms/step - loss: 0.4931 - acc: 0.7660 - val_loss: 0.4313 - val_acc: 0.8125\n",
      "Epoch 14/30\n",
      "100/100 [==============================] - 22s 217ms/step - loss: 0.5103 - acc: 0.7505 - val_loss: 0.3942 - val_acc: 0.8200\n",
      "Epoch 15/30\n",
      "100/100 [==============================] - 22s 216ms/step - loss: 0.4945 - acc: 0.7490 - val_loss: 0.4201 - val_acc: 0.8000\n",
      "Epoch 16/30\n",
      "100/100 [==============================] - 22s 217ms/step - loss: 0.4811 - acc: 0.7610 - val_loss: 0.3938 - val_acc: 0.8275\n",
      "Epoch 17/30\n",
      "100/100 [==============================] - 22s 217ms/step - loss: 0.4940 - acc: 0.7595 - val_loss: 0.4167 - val_acc: 0.8075\n",
      "Epoch 18/30\n",
      "100/100 [==============================] - 22s 218ms/step - loss: 0.4899 - acc: 0.7620 - val_loss: 0.3974 - val_acc: 0.8450\n",
      "Epoch 19/30\n",
      "100/100 [==============================] - 22s 218ms/step - loss: 0.4830 - acc: 0.7560 - val_loss: 0.4282 - val_acc: 0.8125\n",
      "Epoch 20/30\n",
      "100/100 [==============================] - 22s 219ms/step - loss: 0.4715 - acc: 0.7730 - val_loss: 0.3860 - val_acc: 0.8275\n",
      "Epoch 21/30\n",
      "100/100 [==============================] - 22s 218ms/step - loss: 0.4795 - acc: 0.7675 - val_loss: 0.4492 - val_acc: 0.7800\n",
      "Epoch 22/30\n",
      "100/100 [==============================] - 22s 218ms/step - loss: 0.4738 - acc: 0.7740 - val_loss: 0.3732 - val_acc: 0.8250\n",
      "Epoch 23/30\n",
      "100/100 [==============================] - 23s 229ms/step - loss: 0.4764 - acc: 0.7660 - val_loss: 0.4014 - val_acc: 0.8275\n",
      "Epoch 24/30\n",
      "100/100 [==============================] - 22s 217ms/step - loss: 0.4531 - acc: 0.7870 - val_loss: 0.3668 - val_acc: 0.8475\n",
      "Epoch 25/30\n",
      "100/100 [==============================] - 22s 218ms/step - loss: 0.4724 - acc: 0.7740 - val_loss: 0.4377 - val_acc: 0.7900\n",
      "Epoch 26/30\n",
      "100/100 [==============================] - 22s 217ms/step - loss: 0.4422 - acc: 0.7775 - val_loss: 0.3651 - val_acc: 0.8425\n",
      "Epoch 27/30\n",
      "100/100 [==============================] - 22s 216ms/step - loss: 0.4532 - acc: 0.7830 - val_loss: 0.4623 - val_acc: 0.8000\n",
      "Epoch 28/30\n",
      "100/100 [==============================] - 22s 217ms/step - loss: 0.4593 - acc: 0.7825 - val_loss: 0.3868 - val_acc: 0.8350\n",
      "Epoch 29/30\n",
      "100/100 [==============================] - 22s 217ms/step - loss: 0.4583 - acc: 0.7865 - val_loss: 0.3712 - val_acc: 0.8325\n",
      "Epoch 30/30\n",
      "100/100 [==============================] - 22s 217ms/step - loss: 0.4531 - acc: 0.7805 - val_loss: 0.3920 - val_acc: 0.8250\n"
     ]
    }
   ],
   "source": [
    "# Add data augmentation to the model setup and set the model to train; \n",
    "# See warnings above if you intend to run this block of code \n",
    "# ⏰ This cell may take several hours to run \n",
    "train_datagen = ImageDataGenerator(rescale = 1./255,\n",
    "                                  rotation_range = 40,\n",
    "                                  width_shift_range = 0.2,\n",
    "                                   height_shift_range = 0.2,\n",
    "                                   shear_range = 0.2,\n",
    "                                   zoom_range = 0.2,\n",
    "                                   horizontal_flip = True,\n",
    "                                   fill_mode = 'nearest')\n",
    "\n",
    "train_generator = train_datagen.flow_from_directory(train_dir,\n",
    "                                                   target_size = (150, 150),\n",
    "                                                    batch_size = 20,\n",
    "                                                    class_mode = 'binary')\n",
    "history = model.fit(train_generator,\n",
    "                   steps_per_epoch = 100,\n",
    "                   epochs = 30,\n",
    "                   validation_data = validation_generator,\n",
    "                   validation_steps=20)"
   ]
  },
  {
   "cell_type": "code",
   "execution_count": 11,
   "metadata": {},
   "outputs": [
    {
     "data": {
      "image/png": "[encoded data removed]",
      "text/plain": [
       "<Figure size 432x288 with 1 Axes>"
      ]
     },
     "metadata": {
      "needs_background": "light"
     },
     "output_type": "display_data"
    },
    {
     "data": {
      "image/png": "[encoded data removed]",
      "text/plain": [
       "<Figure size 432x288 with 1 Axes>"
      ]
     },
     "metadata": {
      "needs_background": "light"
     },
     "output_type": "display_data"
    }
   ],
   "source": [
    "acc = history.history['acc']\n",
    "val_acc = history.history['val_acc']\n",
    "loss = history.history['loss']\n",
    "val_loss = history.history['val_loss']\n",
    "epochs = range(len(acc))\n",
    "\n",
    "plt.plot(epochs, acc, 'bo', label = 'Training Accuracy')\n",
    "plt.plot(epochs, val_acc, 'b', label = 'Validation Accuracy')\n",
    "plt.title('Training and Validation Accuracy')\n",
    "plt.legend()\n",
    "plt.figure()\n",
    "plt.plot(epochs, loss, 'bo', label = 'Training Loss')\n",
    "plt.plot(epochs, val_loss, 'b', label = 'Validation Loss')\n",
    "plt.title('Training and Validation Loss')\n",
    "plt.legend()\n",
    "plt.show()"
   ]
  },
  {
   "cell_type": "code",
   "execution_count": 12,
   "metadata": {},
   "outputs": [
    {
     "name": "stdout",
     "output_type": "stream",
     "text": [
      "Training with data augmentation took a total of 0:21:05.430479\n"
     ]
    }
   ],
   "source": [
    "end = datetime.datetime.now()\n",
    "elapsed = end - start\n",
    "print('Training with data augmentation took a total of {}'.format(elapsed))"
   ]
  },
  {
   "cell_type": "markdown",
   "metadata": {},
   "source": [
    "Save the model for future reference.  "
   ]
  },
  {
   "cell_type": "code",
   "execution_count": 13,
   "metadata": {},
   "outputs": [],
   "source": [
    "# Save the model \n",
    "model.save('cats_dogs_downsampled_with_augmentation_data.h5')"
   ]
  },
  {
   "cell_type": "markdown",
   "metadata": {},
   "source": [
    "## Final Evaluation\n",
    "\n",
    "Now use the test set to perform a final evaluation on your model of choice. "
   ]
  },
  {
   "cell_type": "code",
   "execution_count": 14,
   "metadata": {},
   "outputs": [
    {
     "name": "stdout",
     "output_type": "stream",
     "text": [
      "Found 425 images belonging to 2 classes.\n",
      "20/20 [==============================] - 1s 48ms/step - loss: 0.4608 - acc: 0.7850\n",
      "Test Accuracy:  0.7850000262260437\n"
     ]
    }
   ],
   "source": [
    "# Your code here \n",
    "# Perform a final evaluation using the test set\n",
    "test_datagen =ImageDataGenerator(rescale = 1./255)\n",
    "\n",
    "test_generator = test_datagen.flow_from_directory(test_dir,\n",
    "                                                 target_size = (150, 150),\n",
    "                                                  batch_size = 20,\n",
    "                                                  class_mode = 'binary')\n",
    "\n",
    "test_loss, test_acc = model.evaluate(test_generator, steps = 20)\n",
    "print('Test Accuracy: ',test_acc)"
   ]
  },
  {
   "cell_type": "markdown",
   "metadata": {},
   "source": [
    "## Summary\n",
    "\n",
    "Well done! In this lab, you practice building your own CNN for image recognition which drastically outperformed our previous attempts using a standard deep learning model alone. In the upcoming sections, we'll continue to investigate further techniques associated with CNNs including visualizing the representations they learn and techniques to further bolster their performance when we have limited training data such as here."
   ]
  }
 ],
 "metadata": {
  "kernelspec": {
   "display_name": "Python 3",
   "language": "python",
   "name": "python3"
  },
  "language_info": {
   "codemirror_mode": {
    "name": "ipython",
    "version": 3
   },
   "file_extension": ".py",
   "mimetype": "text/x-python",
   "name": "python",
   "nbconvert_exporter": "python",
   "pygments_lexer": "ipython3",
   "version": "3.8.5"
  },
  "toc": {
   "base_numbering": 1,
   "nav_menu": {},
   "number_sections": true,
   "sideBar": true,
   "skip_h1_title": false,
   "title_cell": "Table of Contents",
   "title_sidebar": "Contents",
   "toc_cell": false,
   "toc_position": {},
   "toc_section_display": true,
   "toc_window_display": false
  }
 },
 "nbformat": 4,
 "nbformat_minor": 2
}
